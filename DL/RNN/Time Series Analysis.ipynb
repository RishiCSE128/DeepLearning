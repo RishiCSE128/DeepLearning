{
 "cells": [
  {
   "cell_type": "markdown",
   "metadata": {},
   "source": [
    "Time series analysis is a statistical modelling techniques, Statistics can be classified into three types,\n",
    "1. __Descriptive__ - How the data looks like?, it's about  the data (e.g. Detabase models) \n",
    "2. __Predictive__  - Build a model of the data from its nature, answers some What-if type questions (e.g. predictive models, Regression model, classification model etc.). Typically its expressed as a function. A measure of goodness for predictive models is to validate the classification or regression error. \n",
    "3. __Prescriptive__ - What action to take to tune the model to steer the output to favourable outcomes.\n",
    "\n",
    "Typically regression models are used when the problem is descriptive (as it provides a function that tells the geometry of the dataset) but Neural-Networks is more used for predictive models. In a predictive models, the training set the validation set, they must be from identical polulations. In this context there are two major schools of thaughts, \n",
    "1. __Out-of-sample Learning__ : Train-Test set \n",
    "2. __Sample Population__ : prove the training and validation set are of same population \n",
    "\n",
    "In prediction a function $y=f(X\\in \\mathbb{R}^n)$ is estimated that predicts an dependent variable $y$ based on a number of independet variables $x_1 ... x_n$. However, in time-series the dependent and independent variable are part of sequecnes and ordered by time $x_{t+1} = f(x_{t},x_{t-1},...,x_{t-k})$ or $x_{t}=f(x_{t-1},...,x_{t-k})$ train a NN with past data and predict the present, the same function $f$ is applicabe for predicting the future. Called __Auto-Regression__ (Regression on itself)\n",
    "\n",
    "A time series analysis problem is posed into two ways,\n",
    "1. Decomposition - decomposes the time series into a predictable part and a non-predictable (random) part. \n",
    "2. Regression - estimates a function based on past observation \n",
    "\n",
    "The effect of an estimating function would consists of...\n",
    "1. Trnd : Long-term    \n",
    "2. Seasonlity : Short-term"
   ]
  },
  {
   "cell_type": "code",
   "execution_count": null,
   "metadata": {},
   "outputs": [],
   "source": [
    " "
   ]
  }
 ],
 "metadata": {
  "kernelspec": {
   "display_name": "Python 3",
   "language": "python",
   "name": "python3"
  },
  "language_info": {
   "codemirror_mode": {
    "name": "ipython",
    "version": 3
   },
   "file_extension": ".py",
   "mimetype": "text/x-python",
   "name": "python",
   "nbconvert_exporter": "python",
   "pygments_lexer": "ipython3",
   "version": "3.7.6"
  }
 },
 "nbformat": 4,
 "nbformat_minor": 4
}
