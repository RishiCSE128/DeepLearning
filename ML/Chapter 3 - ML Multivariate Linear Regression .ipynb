{
 "cells": [
  {
   "cell_type": "markdown",
   "metadata": {},
   "source": [
    "# Multvariate Linear Regression "
   ]
  },
  {
   "cell_type": "markdown",
   "metadata": {},
   "source": [
    "## import the dataset "
   ]
  },
  {
   "cell_type": "code",
   "execution_count": 1,
   "metadata": {},
   "outputs": [],
   "source": [
    "import numpy as np\n",
    "import pandas as pd\n",
    "import matplotlib.pyplot as plt"
   ]
  },
  {
   "cell_type": "code",
   "execution_count": 2,
   "metadata": {},
   "outputs": [
    {
     "data": {
      "text/html": [
       "<div>\n",
       "<style scoped>\n",
       "    .dataframe tbody tr th:only-of-type {\n",
       "        vertical-align: middle;\n",
       "    }\n",
       "\n",
       "    .dataframe tbody tr th {\n",
       "        vertical-align: top;\n",
       "    }\n",
       "\n",
       "    .dataframe thead th {\n",
       "        text-align: right;\n",
       "    }\n",
       "</style>\n",
       "<table border=\"1\" class=\"dataframe\">\n",
       "  <thead>\n",
       "    <tr style=\"text-align: right;\">\n",
       "      <th></th>\n",
       "      <th>R&amp;D Spend</th>\n",
       "      <th>Administration</th>\n",
       "      <th>Marketing Spend</th>\n",
       "      <th>State</th>\n",
       "      <th>Profit</th>\n",
       "    </tr>\n",
       "  </thead>\n",
       "  <tbody>\n",
       "    <tr>\n",
       "      <th>0</th>\n",
       "      <td>165349.20</td>\n",
       "      <td>136897.80</td>\n",
       "      <td>471784.10</td>\n",
       "      <td>New York</td>\n",
       "      <td>192261.83</td>\n",
       "    </tr>\n",
       "    <tr>\n",
       "      <th>1</th>\n",
       "      <td>162597.70</td>\n",
       "      <td>151377.59</td>\n",
       "      <td>443898.53</td>\n",
       "      <td>California</td>\n",
       "      <td>191792.06</td>\n",
       "    </tr>\n",
       "    <tr>\n",
       "      <th>2</th>\n",
       "      <td>153441.51</td>\n",
       "      <td>101145.55</td>\n",
       "      <td>407934.54</td>\n",
       "      <td>Florida</td>\n",
       "      <td>191050.39</td>\n",
       "    </tr>\n",
       "    <tr>\n",
       "      <th>3</th>\n",
       "      <td>144372.41</td>\n",
       "      <td>118671.85</td>\n",
       "      <td>383199.62</td>\n",
       "      <td>New York</td>\n",
       "      <td>182901.99</td>\n",
       "    </tr>\n",
       "    <tr>\n",
       "      <th>4</th>\n",
       "      <td>142107.34</td>\n",
       "      <td>91391.77</td>\n",
       "      <td>366168.42</td>\n",
       "      <td>Florida</td>\n",
       "      <td>166187.94</td>\n",
       "    </tr>\n",
       "  </tbody>\n",
       "</table>\n",
       "</div>"
      ],
      "text/plain": [
       "   R&D Spend  Administration  Marketing Spend       State     Profit\n",
       "0  165349.20       136897.80        471784.10    New York  192261.83\n",
       "1  162597.70       151377.59        443898.53  California  191792.06\n",
       "2  153441.51       101145.55        407934.54     Florida  191050.39\n",
       "3  144372.41       118671.85        383199.62    New York  182901.99\n",
       "4  142107.34        91391.77        366168.42     Florida  166187.94"
      ]
     },
     "execution_count": 2,
     "metadata": {},
     "output_type": "execute_result"
    }
   ],
   "source": [
    "dataset = pd.read_csv('ds/50_Startups.csv')\n",
    "dataset.head()"
   ]
  },
  {
   "cell_type": "markdown",
   "metadata": {},
   "source": [
    "### dataset size"
   ]
  },
  {
   "cell_type": "code",
   "execution_count": 3,
   "metadata": {},
   "outputs": [
    {
     "data": {
      "text/plain": [
       "(50, 5)"
      ]
     },
     "execution_count": 3,
     "metadata": {},
     "output_type": "execute_result"
    }
   ],
   "source": [
    "dataset.shape"
   ]
  },
  {
   "cell_type": "markdown",
   "metadata": {},
   "source": [
    "### about the dataset"
   ]
  },
  {
   "cell_type": "markdown",
   "metadata": {},
   "source": [
    "* The data set comprises details of 50 startups, each with their location, expendature in R&D, Admin, marketting and net profit. the job is to advice a venture capitalist fund to which type of startups are more feasible to invest. \n",
    "* create a ML model $f$ from the dataset.\n",
    "* $f : \\{RnD, admin, mark, state \\} \\rightarrow profit$\n"
   ]
  },
  {
   "cell_type": "markdown",
   "metadata": {},
   "source": [
    "## Multivariate Linear Regression \n",
    "\n",
    "### Basics \n",
    "* Genereal form : $y = b_0 + b_1x_1 + ... + b_nx_n = \\sum_{0}^{n} b_ix_i$\n",
    "* A straight line in n dimentinal space \n",
    "* $b_i$ : slope at $i^{th}$ dimention , $b_0$ : $y$ intercept\n",
    "\n",
    "### Assumptions\n",
    "make sure the following assumptions hold for the model you're building, before start buildng \n",
    "1. Linearity\n",
    "2. Homoscedasticity \n",
    "3. Multivariate normality \n",
    "4. Independence of Error\n",
    "5. Lac of Multicollinearity \n",
    "\n",
    "### Dummy Variables\n",
    "* while building the model. __State__ attribute in our case, happens to be be non-numeric. \n",
    "* thus the linear regressor can't learn from it. \n",
    "* therefore we need to encode them into some numeric expression \n",
    "* now, a simple numeric map may create confusion to the regressor as higher numbers would be dominent and impose bias to the model, since there are no ordinal correaltion exists. \n",
    "* therefore each distinct values from the target colum is presented as individual column as each occurence of the subjected item is presented as 1, otherwise 0. \n",
    "* this new columns are called __Dummy Attributes $(d_i)$__ \n",
    "* this encodes into numeric attributes without impossing ordinality \n",
    "* new Expression is $y = \\sum_{0}^{n} b_ix_i + \\sum_{0}^{k-1}b_jd_j$\n",
    "* Although you souldn't include all your dummy varibale in training (__Dummy Variable Trap__) \n",
    "\n",
    "### Dummy variable Trap \n",
    "* no two coherent dummy variables (sourced from a single attribute) for a given sample can't be 1 at the same time. $D_1 = 1 - D_2$\n",
    "* this feature is called multi-collinearity \n",
    "* including all dummy variable may confuse the model with the bias, called __Dummy variable Trap__\n",
    "* _Rule of Thumb : for every set of dummy variables exclude 1 variable for training_\n",
    "\n",
    "### Optimise attribute set\n",
    "* Dont include all the dependent variables \n",
    "* select the right variables \n",
    "* too many variable may incure noise (__Curse of dimentionality__)\n",
    "* slows down the traing process\n",
    "* hards to explain the dataset \n",
    "* methods of building model <br>\n",
    "\n",
    "> 1. __All-in : include all variables__\n",
    ">> * Domain / Priore knowledge (you're sure about it)\n",
    ">> * Requirements (Company, client etc.) \n",
    ">> * Preparing for backward elemination \n",
    "\n",
    "> 2. __Backward Elimination__\n",
    ">> * step 1 : select the __significance level (SL)__ to stay in the model\n",
    ">> * step 2 : __fit the full__ model will all possible predictors \n",
    ">> * step 3 : Consider the predictor with __Highest P-value__. ; if P > SL goto Step 4, else __Fin__ (Model is ready). \n",
    ">> * step 4 : __Remove__ the predictor with highest P-value\n",
    ">> * step 5 : __Rebuild__ the model without the eleminated predictor ; goto step 3\n",
    "\n",
    "> 3. __Forwards Selection__\n",
    ">> * Step 1 : select the __SL to Enter the model__ (5%)\n",
    ">> * step 2 : fit all sample regression model $y=f(X_n)$ ; select one with __lowest P-value__\n",
    ">> * step 3 : build all possible linear regression with __adding a new variable and keeping__ the selected variable \n",
    ">> * step 4 : among all the newly added variables, choose the one that gives model with __lowest p value__ ; if P < SL goto step 3 otherwise __Fin__\n",
    "\n",
    "> 4. __Bidirectional Elimination__ \n",
    ">> * step 1 : select $SL_{stey}=0.05$ and $SL_{enter}=0.05$\n",
    ">> * step 2 : perform the next step of Fotward selection, for new variable $ (P < SL_{enter}) $\n",
    ">> * step 3 : perform all steps from backward elemination, for old variables $ (P < SL_{stey}) $ ; goto step 2 \n",
    ">> * step 4 : no new variables can enter, no old variables can exit : __Fin__\n",
    "\n",
    "> 5. __Score Comparison (Most resource consuming model)__\n",
    ">> * Step 1 : select a goodness criteria of fit (Akaike Criterion)\n",
    ">> * Step 2 : Construct all possible regression models $2^{N-1}$ total combination\n",
    ">> * step 3 : Select the best model ; __Fin__\n",
    "> 6. Step wise regression - 2,3,__4__ (More general)\n"
   ]
  },
  {
   "cell_type": "markdown",
   "metadata": {},
   "source": [
    "## Implementing Multivariate Linear Regression "
   ]
  },
  {
   "cell_type": "markdown",
   "metadata": {},
   "source": [
    "### Data Preprocessing"
   ]
  },
  {
   "cell_type": "code",
   "execution_count": 4,
   "metadata": {},
   "outputs": [],
   "source": [
    "# separating dependent and independent variables\n",
    "X = dataset.iloc[:,:-1].values\n",
    "Y = dataset.iloc[:,-1].values\n",
    "\n",
    "# Encode categorical variable (State)\n",
    "from sklearn.preprocessing import LabelEncoder,OneHotEncoder\n",
    "le_X = LabelEncoder()\n",
    "X[:,3] = le_X.fit_transform(X[:,3])\n",
    "ohe = OneHotEncoder(categorical_features = [3])\n",
    "X = ohe.fit_transform(X).toarray()"
   ]
  },
  {
   "cell_type": "markdown",
   "metadata": {},
   "source": [
    "### after one hot encoding"
   ]
  },
  {
   "cell_type": "code",
   "execution_count": 5,
   "metadata": {},
   "outputs": [
    {
     "data": {
      "text/html": [
       "<div>\n",
       "<style scoped>\n",
       "    .dataframe tbody tr th:only-of-type {\n",
       "        vertical-align: middle;\n",
       "    }\n",
       "\n",
       "    .dataframe tbody tr th {\n",
       "        vertical-align: top;\n",
       "    }\n",
       "\n",
       "    .dataframe thead th {\n",
       "        text-align: right;\n",
       "    }\n",
       "</style>\n",
       "<table border=\"1\" class=\"dataframe\">\n",
       "  <thead>\n",
       "    <tr style=\"text-align: right;\">\n",
       "      <th></th>\n",
       "      <th>0</th>\n",
       "      <th>1</th>\n",
       "      <th>2</th>\n",
       "      <th>3</th>\n",
       "      <th>4</th>\n",
       "      <th>5</th>\n",
       "    </tr>\n",
       "  </thead>\n",
       "  <tbody>\n",
       "    <tr>\n",
       "      <th>0</th>\n",
       "      <td>0.0</td>\n",
       "      <td>0.0</td>\n",
       "      <td>1.0</td>\n",
       "      <td>165349.20</td>\n",
       "      <td>136897.80</td>\n",
       "      <td>471784.10</td>\n",
       "    </tr>\n",
       "    <tr>\n",
       "      <th>1</th>\n",
       "      <td>1.0</td>\n",
       "      <td>0.0</td>\n",
       "      <td>0.0</td>\n",
       "      <td>162597.70</td>\n",
       "      <td>151377.59</td>\n",
       "      <td>443898.53</td>\n",
       "    </tr>\n",
       "    <tr>\n",
       "      <th>2</th>\n",
       "      <td>0.0</td>\n",
       "      <td>1.0</td>\n",
       "      <td>0.0</td>\n",
       "      <td>153441.51</td>\n",
       "      <td>101145.55</td>\n",
       "      <td>407934.54</td>\n",
       "    </tr>\n",
       "    <tr>\n",
       "      <th>3</th>\n",
       "      <td>0.0</td>\n",
       "      <td>0.0</td>\n",
       "      <td>1.0</td>\n",
       "      <td>144372.41</td>\n",
       "      <td>118671.85</td>\n",
       "      <td>383199.62</td>\n",
       "    </tr>\n",
       "    <tr>\n",
       "      <th>4</th>\n",
       "      <td>0.0</td>\n",
       "      <td>1.0</td>\n",
       "      <td>0.0</td>\n",
       "      <td>142107.34</td>\n",
       "      <td>91391.77</td>\n",
       "      <td>366168.42</td>\n",
       "    </tr>\n",
       "  </tbody>\n",
       "</table>\n",
       "</div>"
      ],
      "text/plain": [
       "     0    1    2          3          4          5\n",
       "0  0.0  0.0  1.0  165349.20  136897.80  471784.10\n",
       "1  1.0  0.0  0.0  162597.70  151377.59  443898.53\n",
       "2  0.0  1.0  0.0  153441.51  101145.55  407934.54\n",
       "3  0.0  0.0  1.0  144372.41  118671.85  383199.62\n",
       "4  0.0  1.0  0.0  142107.34   91391.77  366168.42"
      ]
     },
     "execution_count": 5,
     "metadata": {},
     "output_type": "execute_result"
    }
   ],
   "source": [
    "pd.DataFrame(X).head()"
   ]
  },
  {
   "cell_type": "markdown",
   "metadata": {},
   "source": [
    "### Avoiding Dummy variable Trap "
   ]
  },
  {
   "cell_type": "code",
   "execution_count": 6,
   "metadata": {},
   "outputs": [
    {
     "data": {
      "text/html": [
       "<div>\n",
       "<style scoped>\n",
       "    .dataframe tbody tr th:only-of-type {\n",
       "        vertical-align: middle;\n",
       "    }\n",
       "\n",
       "    .dataframe tbody tr th {\n",
       "        vertical-align: top;\n",
       "    }\n",
       "\n",
       "    .dataframe thead th {\n",
       "        text-align: right;\n",
       "    }\n",
       "</style>\n",
       "<table border=\"1\" class=\"dataframe\">\n",
       "  <thead>\n",
       "    <tr style=\"text-align: right;\">\n",
       "      <th></th>\n",
       "      <th>0</th>\n",
       "      <th>1</th>\n",
       "      <th>2</th>\n",
       "      <th>3</th>\n",
       "      <th>4</th>\n",
       "    </tr>\n",
       "  </thead>\n",
       "  <tbody>\n",
       "    <tr>\n",
       "      <th>0</th>\n",
       "      <td>0.0</td>\n",
       "      <td>1.0</td>\n",
       "      <td>165349.20</td>\n",
       "      <td>136897.80</td>\n",
       "      <td>471784.10</td>\n",
       "    </tr>\n",
       "    <tr>\n",
       "      <th>1</th>\n",
       "      <td>0.0</td>\n",
       "      <td>0.0</td>\n",
       "      <td>162597.70</td>\n",
       "      <td>151377.59</td>\n",
       "      <td>443898.53</td>\n",
       "    </tr>\n",
       "    <tr>\n",
       "      <th>2</th>\n",
       "      <td>1.0</td>\n",
       "      <td>0.0</td>\n",
       "      <td>153441.51</td>\n",
       "      <td>101145.55</td>\n",
       "      <td>407934.54</td>\n",
       "    </tr>\n",
       "    <tr>\n",
       "      <th>3</th>\n",
       "      <td>0.0</td>\n",
       "      <td>1.0</td>\n",
       "      <td>144372.41</td>\n",
       "      <td>118671.85</td>\n",
       "      <td>383199.62</td>\n",
       "    </tr>\n",
       "    <tr>\n",
       "      <th>4</th>\n",
       "      <td>1.0</td>\n",
       "      <td>0.0</td>\n",
       "      <td>142107.34</td>\n",
       "      <td>91391.77</td>\n",
       "      <td>366168.42</td>\n",
       "    </tr>\n",
       "  </tbody>\n",
       "</table>\n",
       "</div>"
      ],
      "text/plain": [
       "     0    1          2          3          4\n",
       "0  0.0  1.0  165349.20  136897.80  471784.10\n",
       "1  0.0  0.0  162597.70  151377.59  443898.53\n",
       "2  1.0  0.0  153441.51  101145.55  407934.54\n",
       "3  0.0  1.0  144372.41  118671.85  383199.62\n",
       "4  1.0  0.0  142107.34   91391.77  366168.42"
      ]
     },
     "execution_count": 6,
     "metadata": {},
     "output_type": "execute_result"
    }
   ],
   "source": [
    "X = X [:, 1:] # remove the first column  \n",
    "pd.DataFrame(X).head()"
   ]
  },
  {
   "cell_type": "markdown",
   "metadata": {},
   "source": [
    "### Train Test Split "
   ]
  },
  {
   "cell_type": "code",
   "execution_count": 11,
   "metadata": {},
   "outputs": [],
   "source": [
    "# train test split\n",
    "from sklearn.cross_validation import train_test_split\n",
    "X_train, X_test, Y_train, Y_test = train_test_split(X,Y,test_size=.2, random_state=40)"
   ]
  },
  {
   "cell_type": "markdown",
   "metadata": {},
   "source": [
    "### Run Multple LR"
   ]
  },
  {
   "cell_type": "code",
   "execution_count": 8,
   "metadata": {},
   "outputs": [],
   "source": [
    "from sklearn.linear_model import LinearRegression \n",
    "\n",
    "regressor = LinearRegression() # create regressor \n",
    "regressor.fit(X_train, Y_train) # build model \n",
    "\n",
    "\n",
    "Y_pred = regressor.predict(X_test) # make prediction "
   ]
  },
  {
   "cell_type": "code",
   "execution_count": 10,
   "metadata": {},
   "outputs": [
    {
     "data": {
      "image/png": "[encoded data removed]",
      "text/plain": [
       "<Figure size 432x288 with 2 Axes>"
      ]
     },
     "metadata": {
      "needs_background": "light"
     },
     "output_type": "display_data"
    }
   ],
   "source": [
    "train_plot = plt.subplot(211)\n",
    "test_plot = plt.subplot(212)\n",
    "\n",
    "train_plot.grid(True)\n",
    "train_plot.set_title('Train Set')\n",
    "train_plot.scatter(np.arange(X_train.shape[0]),Y_train,\n",
    "                   color='Orange', \n",
    "                   label = 'actual train set')\n",
    "\n",
    "train_plot.scatter(np.arange(X_train.shape[0]),regressor.predict(X_train), \n",
    "                   color='green', \n",
    "                   label = 'predicted train set')\n",
    "train_plot.legend=True\n",
    "\n",
    "test_plot.grid(True)\n",
    "test_plot.set_title('Test Set')\n",
    "test_plot.scatter(np.arange(X_test.shape[0]),Y_test, \n",
    "                  color='red', \n",
    "                  label = 'actual test set')\n",
    "\n",
    "test_plot.scatter(np.arange(X_test.shape[0]),Y_pred,\n",
    "                  color='blue',\n",
    "                  label = 'Predicted test set')\n",
    "\n",
    "test_plot.legend=True\n",
    "plt.show()"
   ]
  },
  {
   "cell_type": "code",
   "execution_count": null,
   "metadata": {},
   "outputs": [],
   "source": []
  }
 ],
 "metadata": {
  "kernelspec": {
   "display_name": "Python 3",
   "language": "python",
   "name": "python3"
  },
  "language_info": {
   "codemirror_mode": {
    "name": "ipython",
    "version": 3
   },
   "file_extension": ".py",
   "mimetype": "text/x-python",
   "name": "python",
   "nbconvert_exporter": "python",
   "pygments_lexer": "ipython3",
   "version": "3.7.6"
  }
 },
 "nbformat": 4,
 "nbformat_minor": 2
}
